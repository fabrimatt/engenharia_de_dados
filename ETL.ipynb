{
 "cells": [
  {
   "cell_type": "code",
   "execution_count": 1,
   "metadata": {
    "id": "rUYTQtqhhc3C"
   },
   "outputs": [],
   "source": [
    "#Importando bibliotecas\n",
    "import pandas as pd"
   ]
  },
  {
   "cell_type": "code",
   "execution_count": 2,
   "metadata": {
    "id": "mOc3t0V9hsFO"
   },
   "outputs": [],
   "source": [
    "#ler arquivo e extrair os dados\n",
    "\n",
    "def read_files(path, name_file, year_date, type_file):\n",
    "    \n",
    "    _file = f'{path}{name_file}{year_date}.{type_file}'\n",
    "    \n",
    "    colspecs=[(2,10),\n",
    "              (10,12),\n",
    "              (12,24),\n",
    "              (27,39),\n",
    "              (56,69),\n",
    "              (69,82),\n",
    "              (82,95),\n",
    "              (108,121),\n",
    "              (152,170),\n",
    "              (170,188)\n",
    "              ]\n",
    "    \n",
    "    names = ['data_pregao','codbdi','sigla_acao','nome_acao','preco_abertura','preco_max', 'preco_minimo','preco_fechamento', 'qtd_negocios', 'volume_negocios']\n",
    "    \n",
    "    df = pd.read_fwf(_file, colspecs=colspecs, names = names , skiprows=1 )\n",
    "        \n",
    "    return df\n",
    "\n"
   ]
  },
  {
   "cell_type": "code",
   "execution_count": 3,
   "metadata": {},
   "outputs": [],
   "source": [
    "#Filtrar ações\n",
    "\n",
    "def filter_stocks(df):\n",
    "    df = df[df['codbdi'] == 2 ]\n",
    "    df = df.drop(['codbdi'],1)\n",
    "    \n",
    "    return df\n"
   ]
  },
  {
   "cell_type": "code",
   "execution_count": 4,
   "metadata": {
    "id": "R5NR2DcQBE-s"
   },
   "outputs": [],
   "source": [
    "#Ajustar campo de data\n",
    "\n",
    "def parse_date(df):\n",
    "    df['data_pregao'] = pd.to_datetime(df['data_pregao'], format='%Y%m%d')    \n",
    "    \n",
    "    return df\n"
   ]
  },
  {
   "cell_type": "code",
   "execution_count": 5,
   "metadata": {
    "id": "H9Hx62euBFBe"
   },
   "outputs": [],
   "source": [
    "#Ajuste nos campos de valores\n",
    "\n",
    "def parse_values(df):\n",
    "    df['preco_abertura'] = (df['preco_abertura'] /100).astype(float)\n",
    "    df['preco_maximo'] = (df['preco_max'] /100).astype(float)\n",
    "    df['preco_minimo'] = (df['preco_minimo'] /100).astype(float)\n",
    "    df['preco_fechamento'] = (df['preco_fechamento'] /100).astype(float)\n",
    "    \n",
    "    return df"
   ]
  },
  {
   "cell_type": "code",
   "execution_count": 6,
   "metadata": {
    "id": "jyjSr12N1zM9"
   },
   "outputs": [],
   "source": [
    "#juntando os arquivos\n",
    "\n",
    "def concat_files(path, name_file, year_date, type_file, final_file):\n",
    "   \n",
    "        \n",
    "    for i,y in enumerate(year_date):\n",
    "        df = read_files(path, name_file, y, type_file)\n",
    "        df = filter_stocks(df)\n",
    "        df = parse_date(df)\n",
    "        df = parse_values(df)\n",
    "        \n",
    "        if i ==0:\n",
    "            df_final = df\n",
    "        else:\n",
    "            df_final = pd.concat([df_final,df])\n",
    "    \n",
    "    df_final.to_csv(f'{path}//{final_file}', index=False)   \n",
    "\n"
   ]
  },
  {
   "cell_type": "code",
   "execution_count": 7,
   "metadata": {
    "colab": {
     "base_uri": "https://localhost:8080/",
     "height": 1000
    },
    "id": "wlO2m9fxCCXG",
    "outputId": "afe5ee1d-1a0c-4065-a7ac-a23417d3084e"
   },
   "outputs": [],
   "source": [
    "#Executando programa de etl\n",
    "\n",
    "year_date = ['2018','2019','2020']\n",
    "\n",
    "path=f'C://Users//fabri//Google Drive//codifike//16-Engenharia de dados//'\n",
    "\n",
    "name_file='COTAHIST_A'\n",
    "\n",
    "type_file ='txt'\n",
    "\n",
    "final_file = 'all_bovespa.csv'\n",
    "\n",
    "concat_files( path, name_file, year_date,type_file, final_file)\n"
   ]
  },
  {
   "cell_type": "code",
   "execution_count": null,
   "metadata": {},
   "outputs": [],
   "source": []
  }
 ],
 "metadata": {
  "colab": {
   "name": "ETL.ipynb",
   "provenance": []
  },
  "kernelspec": {
   "display_name": "Python 3",
   "language": "python",
   "name": "python3"
  },
  "language_info": {
   "codemirror_mode": {
    "name": "ipython",
    "version": 3
   },
   "file_extension": ".py",
   "mimetype": "text/x-python",
   "name": "python",
   "nbconvert_exporter": "python",
   "pygments_lexer": "ipython3",
   "version": "3.7.6"
  }
 },
 "nbformat": 4,
 "nbformat_minor": 1
}
